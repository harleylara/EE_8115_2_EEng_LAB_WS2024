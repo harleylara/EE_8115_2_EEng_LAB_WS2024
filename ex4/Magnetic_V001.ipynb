{
 "cells": [
  {
   "cell_type": "code",
   "execution_count": null,
   "id": "ebcf8f0d-97fb-435a-8fe6-9c8989a1ef89",
   "metadata": {},
   "outputs": [],
   "source": []
  },
  {
   "cell_type": "markdown",
   "id": "564863a4-d09b-4e7a-8bff-40352b8a7113",
   "metadata": {},
   "source": [
    "# Applications of Magnetic Fields\n",
    "\n",
    "A placeholder for later (generator, motor, induction, Faraday, ...)"
   ]
  }
 ],
 "metadata": {
  "kernelspec": {
   "display_name": "Python 3 (ipykernel)",
   "language": "python",
   "name": "python3"
  },
  "language_info": {
   "codemirror_mode": {
    "name": "ipython",
    "version": 3
   },
   "file_extension": ".py",
   "mimetype": "text/x-python",
   "name": "python",
   "nbconvert_exporter": "python",
   "pygments_lexer": "ipython3",
   "version": "3.13.0"
  }
 },
 "nbformat": 4,
 "nbformat_minor": 5
}
