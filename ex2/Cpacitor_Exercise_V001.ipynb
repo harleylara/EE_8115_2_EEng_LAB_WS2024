{
 "cells": [
  {
   "cell_type": "markdown",
   "id": "f9f7cfbd-ca80-4313-aa03-f43c1368146a",
   "metadata": {},
   "source": [
    "# E_1.08 Physics: Exercise 2 - Capacitor Charchinng/Discharging\n",
    "\n",
    "- University: Rhein-Waal University of Applied Sciences (Hochschule Rhein-Waal)\n",
    "- Course:  E_1.08 Physics: Mechanics, Electricity and Magentism, WS2022/23"
   ]
  },
  {
   "cell_type": "markdown",
   "id": "aa474e23-2107-4467-8ab7-cfc737f701d1",
   "metadata": {},
   "source": [
    "## Overview\n",
    "---\n",
    "\n",
    "...\n",
    "..."
   ]
  },
  {
   "cell_type": "markdown",
   "id": "92d40d47-8563-4624-bdb9-e31da9f15947",
   "metadata": {},
   "source": [
    "## Extra software\n",
    "\n",
    "Please Download [Arduino Legacy IDE](https://www.arduino.cc/en/software#legacy-ide-18x)\n",
    "\n",
    "<center>\n",
    "    <img src=\"https://upload.wikimedia.org/wikipedia/commons/thumb/8/87/Arduino_Logo.svg/1024px-Arduino_Logo.svg.png\" width=\"400px\\\"/>\n",
    "    <br>\n",
    "    <i></i>\n",
    "</center>"
   ]
  },
  {
   "cell_type": "markdown",
   "id": "08a1fb96-e428-47d7-8fdb-48f545125abb",
   "metadata": {},
   "source": [
    "## Background preparation before starting the lab\n",
    "---\n",
    "\n",
    "The following steps should have been done before startung the exercise:\n",
    "\n",
    "- [Install Anaconda](https://docs.anaconda.com/anaconda/install/index.html)\n",
    "- [Create the EEng Conda Environment](../EEng_LAB_Course_Preparation/eeng_conda_env.md)\n",
    "- [Download Notebooks from Git Repo](https://github.com/rolfbecker/EE_1.08_2_EEng_LAB_WS2022)"
   ]
  },
  {
   "cell_type": "markdown",
   "id": "54dbc027-1fe0-4e79-bbc3-314ee759d18d",
   "metadata": {},
   "source": [
    "## Safety Considerations\n",
    "---\n",
    "\n",
    "- **DO NOT** energize **ANY** circuit without prior review by the lab assistants, thay will make sure that the circuit is correctly connected, and if not, the will point out the necessary corrections.\n",
    "- **DO NOT** drop or hit **ANY** components, especially measuring instruments such as the multimeter, Luxmeter, etc."
   ]
  },
  {
   "cell_type": "markdown",
   "id": "87df291f-fb76-4f63-a466-8cc847f38264",
   "metadata": {},
   "source": [
    "## List of Equipment\n",
    "---\n",
    "\n",
    "**Make sure you have all the components and instruments listed below before you start**.\n",
    "\n",
    "Components:\n",
    "- x1 100uF Capacitor\n",
    "- x1 10K Ohm Resistor\n",
    "- x1 Arduino UNO with cable\n",
    "- Set of jumper cables\n",
    "\n",
    "Instruments:\n",
    "- x1 Multimeter"
   ]
  },
  {
   "cell_type": "markdown",
   "id": "c14a34b1-6a98-4e66-b3ba-d7935f3a561f",
   "metadata": {},
   "source": [
    "## Circuit\n",
    "---\n",
    "\n",
    "The diagrams below show the test circuit you must make for this exercise.\n",
    "\n",
    "<div style=\"display: flex;\">\n",
    "  <div style=\"float: left; width: 33.33%; padding: 5px;\">\n",
    "      <center>\n",
    "        <img src=\"./images/Capacitor_schem.png\" width=\"400px\"/>\n",
    "        <br>\n",
    "        <i></i>\n",
    "      </center>\n",
    "  </div>\n",
    "  <div style=\"float: left; width: 33.33%; padding: 5px;\">\n",
    "      <center>\n",
    "    <img src=\"./images/Capacitor_bb.png\" width=\"600px\"/>\n",
    "    <br>\n",
    "    <i></i>\n",
    "      </center>\n",
    "  </div>\n",
    "</div>"
   ]
  },
  {
   "cell_type": "markdown",
   "id": "ec5219e3-45ca-45ca-8aab-4ba294dd3e8f",
   "metadata": {},
   "source": [
    "## Flashing Arduino UNO\n",
    "\n",
    "Open the file [Cap_Charging_Discharging_V003](./ex2/Arduino/Cap_Charging_Discharging_V003.ino) in the folder `Arduino`\n",
    "\n",
    "<center>\n",
    "    <img src=\"./images/arduino-open.png\"/>\n",
    "    <br>\n",
    "    <i></i>\n",
    "</center>"
   ]
  },
  {
   "cell_type": "code",
   "execution_count": null,
   "id": "865d92db-ce28-4b41-8682-8d8f6f80fdaa",
   "metadata": {},
   "outputs": [],
   "source": []
  }
 ],
 "metadata": {
  "kernelspec": {
   "display_name": "Python 3 (ipykernel)",
   "language": "python",
   "name": "python3"
  },
  "language_info": {
   "codemirror_mode": {
    "name": "ipython",
    "version": 3
   },
   "file_extension": ".py",
   "mimetype": "text/x-python",
   "name": "python",
   "nbconvert_exporter": "python",
   "pygments_lexer": "ipython3",
   "version": "3.10.7"
  }
 },
 "nbformat": 4,
 "nbformat_minor": 5
}
