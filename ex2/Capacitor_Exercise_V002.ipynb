{
 "cells": [
  {
   "cell_type": "markdown",
   "id": "d3291c9b-ff77-4b55-81cc-9a5ef7b79257",
   "metadata": {},
   "source": [
    "# EE_8115_2 Electrical Engineering LAB"
   ]
  },
  {
   "cell_type": "markdown",
   "id": "ba0107f0-42b8-4e68-b54c-53e37f313f54",
   "metadata": {
    "jp-MarkdownHeadingCollapsed": true
   },
   "source": [
    "## STUDENT GROUP: [fill in, e.g. XX]\n",
    "\n",
    "**Complete the following list of students of your group!**\n",
    "\n",
    "* Student 1: Name, Mat. No.\n",
    "* Student 2: Name, Mat. No.\n",
    "* Student 3: Name, Mat. No. \n"
   ]
  },
  {
   "cell_type": "markdown",
   "id": "f9f7cfbd-ca80-4313-aa03-f43c1368146a",
   "metadata": {},
   "source": [
    "# Experiment 2 - Capacitor Charging/Discharging\n",
    "\n",
    "Course: EE_8115 Physics: Mechanics, Electricity and Magentism - Part Electrical Engineering - Lab <br>\n",
    "Rhein-Waal University of Applied Sciences (HSRW), Earth Observation Lab \n"
   ]
  },
  {
   "cell_type": "markdown",
   "id": "aa474e23-2107-4467-8ab7-cfc737f701d1",
   "metadata": {
    "tags": []
   },
   "source": [
    "## Overview\n",
    "---\n",
    "\n",
    "The following lab exercise aims to profile the characteristic curve of a capacitor in discharging/charging states."
   ]
  },
  {
   "cell_type": "markdown",
   "id": "92d40d47-8563-4624-bdb9-e31da9f15947",
   "metadata": {},
   "source": [
    "## Extra software\n",
    "\n",
    "Please Download [Arduino Legacy IDE](https://www.arduino.cc/en/software#legacy-ide-18x)\n",
    "\n",
    "<center>\n",
    "    <img src=\"https://upload.wikimedia.org/wikipedia/commons/thumb/8/87/Arduino_Logo.svg/1024px-Arduino_Logo.svg.png\" width=\"400px\\\"/>\n",
    "    <br>\n",
    "    <i></i>\n",
    "</center>"
   ]
  },
  {
   "cell_type": "markdown",
   "id": "08a1fb96-e428-47d7-8fdb-48f545125abb",
   "metadata": {},
   "source": [
    "## Background Preparation Before Starting the Lab\n",
    "---\n",
    "\n",
    "If you have not done yet, go to **[EEng Lab Course Preparation](https://github.com/rolfbecker/EE_8115_2_EEng_LAB_WS2024/tree/main/EEng_LAB_Course_Preparation)** to set up your Python work environment based on **Jupyter Lab**.\n"
   ]
  },
  {
   "cell_type": "markdown",
   "id": "54dbc027-1fe0-4e79-bbc3-314ee759d18d",
   "metadata": {},
   "source": [
    "## Safety Considerations\n",
    "---\n",
    "\n",
    "- **DO NOT** energize **ANY** circuit without prior review by the lab assistants, thay will make sure that the circuit is correctly connected, and if not, the will point out the necessary corrections.\n",
    "- **DO NOT** drop or hit **ANY** components, especially measuring instruments such as the multimeter, Luxmeter, etc."
   ]
  },
  {
   "cell_type": "markdown",
   "id": "87df291f-fb76-4f63-a466-8cc847f38264",
   "metadata": {},
   "source": [
    "## List of Equipment\n",
    "---\n",
    "\n",
    "**Make sure you have all the components and instruments listed below before you start**.\n",
    "\n",
    "Components:\n",
    "- x1 100uF Capacitor\n",
    "- x1 10K Ohm Resistor\n",
    "- x1 Arduino UNO with cable\n",
    "- Set of jumper cables\n",
    "\n",
    "Instruments:\n",
    "- x1 Multimeter"
   ]
  },
  {
   "cell_type": "markdown",
   "id": "c14a34b1-6a98-4e66-b3ba-d7935f3a561f",
   "metadata": {},
   "source": [
    "## Circuit\n",
    "---\n",
    "\n",
    "The diagrams below show the test circuit you must make for this exercise.\n",
    "\n",
    "<div style=\"display: flex;\">\n",
    "  <div style=\"float: left; width: 33.33%; padding: 5px;\">\n",
    "      <center>\n",
    "        <img src=\"./images/Capacitor_schem.png\" width=\"400px\"/>\n",
    "        <br>\n",
    "        <i></i>\n",
    "      </center>\n",
    "  </div>\n",
    "  <div style=\"float: left; width: 33.33%; padding: 5px;\">\n",
    "      <center>\n",
    "    <img src=\"./images/Capacitor_bb.png\" width=\"600px\"/>\n",
    "    <br>\n",
    "    <i></i>\n",
    "      </center>\n",
    "  </div>\n",
    "</div>"
   ]
  },
  {
   "cell_type": "markdown",
   "id": "ec5219e3-45ca-45ca-8aab-4ba294dd3e8f",
   "metadata": {},
   "source": [
    "## Flashing Arduino UNO\n",
    "\n",
    "1. Open the [Cap_Charging_Discharging_V003](./ex2/Arduino/Cap_Charging_Discharging_V003.ino) file that you can find in the `Arduino` folder of this exercise.\n",
    "\n",
    "2. Open Arduino IDE and pase the code from [Cap_Charging_Discharging_V003](./ex2/Arduino/Cap_Charging_Discharging_V003.ino) into the editor.\n",
    "\n",
    "<center>\n",
    "    <img src=\"./images/arduino-open.png\" width=\"400px\"/>\n",
    "    <br>\n",
    "</center>\n",
    "\n",
    "3. Select the right board, in this case Arduino Uno\n",
    "\n",
    "<center>\n",
    "    <img src=\"./images/arduino-select.png\" width=\"400px\"/>\n",
    "    <br>\n",
    "</center>\n",
    "\n",
    "4. Select the corresponding port for your Arduino Uno.\n",
    "\n",
    "<center>\n",
    "    <img src=\"./images/arduino-port.png\" width=\"400px\"/>\n",
    "    <br>\n",
    "</center>\n",
    "\n",
    "5. Flash the Arduino by uploading the code.\n",
    "\n",
    "<center>\n",
    "    <img src=\"./images/arduino-upload.png\" width=\"400px\"/>\n",
    "    <br>\n",
    "</center>\n",
    "\n",
    "6. Verify that the code was uploaded correctly.\n",
    "\n",
    "<center>\n",
    "    <img src=\"./images/arduino-finish.png\"/>\n",
    "    <br>\n",
    "</center>"
   ]
  },
  {
   "cell_type": "markdown",
   "id": "7ee61a24-1c42-496c-9216-f33ed16f6aa5",
   "metadata": {},
   "source": [
    "## Data Capture\n",
    "---\n",
    "\n",
    "The data capture is done using Cap_Charging_Discharging_V003 `Arduino` code. \n",
    "\n",
    "1. Using **Serial Plotter** in Arduino IDE you can see the charge and discharge cycles of the capacitor.\n",
    "\n",
    "<center>\n",
    "    <img src=\"./images/arduino-plotter.png\" width=\"400px\"/>\n",
    "    <br>\n",
    "</center>\n",
    "\n",
    "2. The next step to capture the data is to open the **Serial Monitor**.\n",
    "\n",
    "<center>\n",
    "    <img src=\"./images/arduino-monitor.png\" width=\"400px\"/>\n",
    "    <br>\n",
    "</center>\n",
    "\n",
    "3. Let the Arduino circuit run for at least **2 cycle** of charging and discharging.\n",
    "\n",
    "4. To copy the data, you can stop the serial monitor by checking the Autoscroll option.\n",
    "\n",
    "<center>\n",
    "    <img src=\"./images/arduino-autoscroll.png\" width=\"400px\"/>\n",
    "    <br>\n",
    "</center>\n",
    "\n",
    "5. The data must be copied in a text file with extension `.txt` inside the `data` folder, please follow the format of the `charging_samples.txt` file inside the `data` folder.\n",
    "\n",
    "**Use the following files for:**\n",
    "- Charging part of the curve: [my_charging_data.txt](./data/my_charging_data.txt)\n",
    "- Disharging part of the curve: [my_discharging_data.txt](./data/my_discharging_data.txt)\n",
    "\n",
    "An example of how the file should be formatted:\n",
    "<code style=\"margin: 10px 30px; display: block; color: grey; padding: 1em 2em ;\">chargeMV,capacitorMV,digitalMV\n",
    "5010,141,0\n",
    "5010,288,0\n",
    "5010,429,0\n",
    "</code>\n",
    "\n",
    "- The first column of data corresponds to the **Voltage Output** $mV_{out}$ measured in **millivolt**\n",
    "- The second column is the **Voltage across Capacitor** $mV_{C}$ measured in **millivolt**\n",
    "- The third colum is the **Voltage Input** $mV_{in}$ measured in **millivolt**,\n",
    "\n"
   ]
  },
  {
   "cell_type": "markdown",
   "id": "d7858986-fd33-46ec-8f7f-bf4aff47be64",
   "metadata": {
    "tags": []
   },
   "source": [
    "## Data Display"
   ]
  },
  {
   "cell_type": "code",
   "execution_count": 1,
   "id": "5d0f3c7f-75e8-427d-8993-2c45514f965c",
   "metadata": {
    "deletable": false,
    "editable": false,
    "tags": []
   },
   "outputs": [
    {
     "ename": "ModuleNotFoundError",
     "evalue": "No module named 'ipywidgets'",
     "output_type": "error",
     "traceback": [
      "\u001b[1;31m---------------------------------------------------------------------------\u001b[0m",
      "\u001b[1;31mModuleNotFoundError\u001b[0m                       Traceback (most recent call last)",
      "Cell \u001b[1;32mIn[1], line 4\u001b[0m\n\u001b[0;32m      2\u001b[0m \u001b[38;5;28;01mimport\u001b[39;00m \u001b[38;5;21;01mnumpy\u001b[39;00m \u001b[38;5;28;01mas\u001b[39;00m \u001b[38;5;21;01mnp\u001b[39;00m\n\u001b[0;32m      3\u001b[0m \u001b[38;5;28;01mimport\u001b[39;00m \u001b[38;5;21;01mmatplotlib\u001b[39;00m\u001b[38;5;21;01m.\u001b[39;00m\u001b[38;5;21;01mpyplot\u001b[39;00m \u001b[38;5;28;01mas\u001b[39;00m \u001b[38;5;21;01mplt\u001b[39;00m\n\u001b[1;32m----> 4\u001b[0m \u001b[38;5;28;01mfrom\u001b[39;00m \u001b[38;5;21;01mipywidgets\u001b[39;00m \u001b[38;5;28;01mimport\u001b[39;00m interactive\n",
      "\u001b[1;31mModuleNotFoundError\u001b[0m: No module named 'ipywidgets'"
     ]
    }
   ],
   "source": [
    "import pandas as pd\n",
    "import numpy as np\n",
    "import matplotlib.pyplot as plt\n",
    "from ipywidgets import interactive"
   ]
  },
  {
   "cell_type": "markdown",
   "id": "fc7b3e80-e7de-4eeb-82ab-5be39ec71a3a",
   "metadata": {},
   "source": [
    "**Fill requested information**:"
   ]
  },
  {
   "cell_type": "code",
   "execution_count": null,
   "id": "9da61480-0b95-41da-9fff-4ebfbe5cffbf",
   "metadata": {},
   "outputs": [],
   "source": [
    "############################\n",
    "# Fill these variables with\n",
    "# the requested information\n",
    "############################\n",
    "\n",
    "CHARGING_FILE = \"charging_samples.txt\"  # your file name WITH extension\n",
    "DISCHARGING_FILE = \"discharging_samples.txt\"  # your file name WITH extension"
   ]
  },
  {
   "cell_type": "code",
   "execution_count": null,
   "id": "caa27a18-611a-4b8b-9bb4-71882284c088",
   "metadata": {
    "deletable": false,
    "editable": false,
    "tags": []
   },
   "outputs": [],
   "source": [
    "CHARGING_PATH = f\"./data/{CHARGING_FILE}\"\n",
    "DISCHARGING_PATH = f\"./data/{DISCHARGING_FILE}\"\n",
    "\n",
    "df_charging = pd.read_csv(CHARGING_PATH)\n",
    "df_discharging = pd.read_csv(DISCHARGING_PATH)\n",
    "df_discharging.head()"
   ]
  },
  {
   "cell_type": "markdown",
   "id": "fcbdf148-b9d9-4551-a965-dc16cdfae71d",
   "metadata": {},
   "source": [
    "## Numerical Analysis"
   ]
  },
  {
   "cell_type": "code",
   "execution_count": null,
   "id": "d25aab81-132b-43c1-83ee-13feb98193e5",
   "metadata": {
    "deletable": false,
    "editable": false,
    "tags": []
   },
   "outputs": [],
   "source": [
    "# Capacitor voltage during charging\n",
    "def V_charge(t, VS=1.0, R=1.e3, C=1.e-6):\n",
    "    V = VS*(1-np.exp(-1/(R*C)*t))\n",
    "    return V"
   ]
  },
  {
   "cell_type": "code",
   "execution_count": null,
   "id": "728fe7e4-116e-4061-a846-325598698c22",
   "metadata": {
    "deletable": false,
    "editable": false,
    "tags": []
   },
   "outputs": [],
   "source": [
    "# Capacitor voltage during discharging\n",
    "def V_discharge(t, V0=1.0, R=1.e3, C=1.e-6):\n",
    "    V = V0*np.exp(-1/(R*C)*t)\n",
    "    return V"
   ]
  },
  {
   "cell_type": "markdown",
   "id": "a3d436f4-b767-4006-ae74-378185f65d44",
   "metadata": {
    "tags": []
   },
   "source": [
    "## Parameters"
   ]
  },
  {
   "cell_type": "markdown",
   "id": "b0fce7c9-1b7f-489b-a56c-c1a2e165a9e4",
   "metadata": {},
   "source": [
    "**Fill requested information**:"
   ]
  },
  {
   "cell_type": "code",
   "execution_count": null,
   "id": "2cb15318-2a24-4e94-a539-0e94006209f9",
   "metadata": {},
   "outputs": [],
   "source": [
    "###################################\n",
    "# Fill this session with your data\n",
    "###################################\n",
    "\n",
    "R = 10e3 # 10 kilo Ohm Resistor\n",
    "C = 100e-6 # 100 micro Farad Capacitor\n",
    "\n",
    "V0 = VS = 5.01 # Output voltage produced by the Arduino UNO"
   ]
  },
  {
   "cell_type": "markdown",
   "id": "78cabf7d-ba70-4a28-ab06-28c304a4792a",
   "metadata": {},
   "source": [
    "## Characteristic Time of Charging and Discharging\n",
    "\n",
    "The product of resistance and capacitance has the unit of time. It is the characteristic time of the problem: \n",
    "\n",
    "$$\n",
    "t_c = RC\n",
    "$$"
   ]
  },
  {
   "cell_type": "code",
   "execution_count": null,
   "id": "a06edfd4-fe2f-4527-ba12-0c2afb4aba43",
   "metadata": {
    "deletable": false,
    "editable": false,
    "tags": []
   },
   "outputs": [],
   "source": [
    "# characteristic time constant\n",
    "tc = R*C # s\n",
    "\n",
    "print(f\"The chractericstic time: t_c = R*C = {tc:.3f} s\")"
   ]
  },
  {
   "cell_type": "markdown",
   "id": "4eec5ef3-ff79-45d9-be62-b4085ebe4bf6",
   "metadata": {},
   "source": [
    "## Time Range for Evaluation"
   ]
  },
  {
   "cell_type": "code",
   "execution_count": null,
   "id": "a0633cd5-98d0-4d98-8802-fdd06921594f",
   "metadata": {},
   "outputs": [],
   "source": [
    "#times to evaluate the functions at\n",
    "t = np.arange(len(df_charging.chargeMV))*20/1000 # s"
   ]
  },
  {
   "cell_type": "code",
   "execution_count": null,
   "id": "eb2a64db-7a17-455f-aa31-0ae66752eada",
   "metadata": {
    "deletable": false,
    "editable": false,
    "tags": []
   },
   "outputs": [],
   "source": [
    "charging_V_C = df_charging.capacitorMV/1e3\n",
    "discharging_V_C = df_discharging.capacitorMV/1e3\n",
    "\n",
    "fig1, ax1 = plt.subplots(figsize=(8,6), dpi=136)\n",
    "ax1.plot(t,charging_V_C, label=\"charging measured\")\n",
    "ax1.plot(t,V_charge(t,V0,R,C), label=\"charging ideal\")\n",
    "ax1.plot(tc,V_charge(tc,V0,R,C),\"*\", label =\"characteristic time\")\n",
    "\n",
    "ax1.plot(t,discharging_V_C, label=\"discharging measured\")\n",
    "ax1.plot(t,V_discharge(t,V0,R,C), label=\"discharging ideal\")\n",
    "ax1.plot(tc,V_discharge(tc,V0,R,C),\"*\", label =\"characteristic time\")\n",
    "\n",
    "ax1.set_xlabel(\"Time $t$ in s\")\n",
    "ax1.set_ylabel(\"Voltage in V\")\n",
    "ax1.set_title(\"Charging and Discharging of Capacitor\")\n",
    "ax1.set_xlim(0,6)\n",
    "ax1.set_ylim(-1,6)\n",
    "ax1.grid(True)\n",
    "ax1.legend()\n",
    "plt.plot()\n",
    "plt.show()"
   ]
  },
  {
   "cell_type": "markdown",
   "id": "9d5d6535-d7e2-4b25-a439-2e7b23020e03",
   "metadata": {},
   "source": [
    "## On a Log Scale"
   ]
  },
  {
   "cell_type": "code",
   "execution_count": null,
   "id": "d5f1b880-42ab-4100-a0be-c2f300bbe403",
   "metadata": {
    "deletable": false,
    "editable": false,
    "tags": []
   },
   "outputs": [],
   "source": [
    "fig2, ax2 = plt.subplots(figsize=(8,6), dpi=136)\n",
    "\n",
    "ax2.semilogy(t,discharging_V_C, label=\"discharging measured\")\n",
    "ax2.semilogy(t,V_discharge(t,V0,R,C), label=\"discharging ideal\")\n",
    "ax2.semilogy(tc,V_discharge(tc,V0,R,C),\"*\", label = \"characteristic time\")\n",
    "\n",
    "ax2.set_xlabel(\"Time $t$ in s\")\n",
    "ax2.set_ylabel(\"Capacitor Voltage $V_C$ in V\")\n",
    "ax2.set_title(\"Charging and Discharging of a Capacitor\")\n",
    "ax2.set_xlim(0,6)\n",
    "ax2.set_ylim(1e-2,1e1)\n",
    "ax2.legend()\n",
    "ax2.grid(True)\n",
    "plt.plot()\n",
    "plt.show()"
   ]
  },
  {
   "cell_type": "code",
   "execution_count": null,
   "id": "991433c2-de4c-4764-8d7a-b026a0b39087",
   "metadata": {
    "deletable": false,
    "editable": false,
    "tags": []
   },
   "outputs": [],
   "source": [
    "def V_discharge_Model(t, V0=1.0, R=1.e3, C=1.e-6, m=-0.57, b=2.71e4):\n",
    "    V = V0*np.exp(-1/(R*C)*t)\n",
    "    return(b*V**m)"
   ]
  },
  {
   "cell_type": "code",
   "execution_count": null,
   "id": "9fee96f9-eeeb-4d7d-8e5b-281306230531",
   "metadata": {},
   "outputs": [],
   "source": [
    "def plotter1(m=1., b=1.): # parameters with initial values\n",
    "\n",
    "    fig2,ax2 = plt.subplots(figsize=(8,8))\n",
    "\n",
    "    ax2.semilogy(t, discharging_V_C, \"*\")\n",
    "    ax2.semilogy(t, V_discharge_Model(t,V0,R,C,m,b), \"-\")\n",
    "    ax2.set_xlabel(\"Time $t$ in s\")\n",
    "    ax2.set_ylabel(\"Capacitor Voltage $V_C$ in V\")\n",
    "    ax2.set_title(\"Charging and Discharging of a Capacitor\")\n",
    "    ax2.set_xlim(0,6)\n",
    "    ax2.set_ylim(1e-2,1e1)\n",
    "    ax2.grid(True)"
   ]
  },
  {
   "cell_type": "code",
   "execution_count": null,
   "id": "987ebe92-d1b5-4167-9dce-005999147af9",
   "metadata": {},
   "outputs": [],
   "source": [
    "C*R"
   ]
  },
  {
   "cell_type": "code",
   "execution_count": null,
   "id": "ba550d28-a7f9-4881-a862-5ac0cda931d7",
   "metadata": {},
   "outputs": [],
   "source": [
    "def V_discharge_Model2(t, V0=1.0, tc=1.0):\n",
    "    V = V0*np.exp(-1/tc*t)\n",
    "    return(V)"
   ]
  },
  {
   "cell_type": "code",
   "execution_count": null,
   "id": "d615a75b-1548-4c93-a8f4-e476372a7854",
   "metadata": {},
   "outputs": [],
   "source": [
    "def plotter2(V0=1.0, tc=1.0): # parameters with initial values\n",
    "\n",
    "    fig3,ax3 = plt.subplots(figsize=(8,8))\n",
    "\n",
    "    ax3.semilogy(t, discharging_V_C, \"*\")\n",
    "    ax3.semilogy(t, V_discharge_Model2(t,V0,tc), \"-\")\n",
    "    ax3.set_xlabel(\"Time $t$ in s\")\n",
    "    ax3.set_ylabel(\"Capacitor Voltage $V_C$ in V\")\n",
    "    ax3.set_title(\"Charging and Discharging of a Capacitor\")\n",
    "    ax3.set_xlim(0,6)\n",
    "    ax3.set_ylim(1e-2,1e1)\n",
    "    ax3.grid(True)"
   ]
  },
  {
   "cell_type": "code",
   "execution_count": null,
   "id": "3ed7bb40-0390-476c-b4e0-525979434b8a",
   "metadata": {
    "tags": []
   },
   "outputs": [],
   "source": [
    "# initialize the interactive plot\n",
    "iplot2 = interactive(\n",
    "    plotter2, \n",
    "    V0=(0.,10.,0.1),\n",
    "    tc=(0.8,1.2,0.01),\n",
    ")\n",
    "\n",
    "# start the interactive plot\n",
    "iplot2"
   ]
  },
  {
   "cell_type": "markdown",
   "id": "a15bfcf7-0d9d-4eec-a194-dff40bcebe8f",
   "metadata": {},
   "source": [
    "## Questions"
   ]
  },
  {
   "cell_type": "markdown",
   "id": "5e9a207f-1a4a-4534-a65a-2812dd2799d2",
   "metadata": {},
   "source": [
    "**Question 1:**<br>\n",
    "How long is the charging and discharging time of the capacitor?"
   ]
  },
  {
   "cell_type": "markdown",
   "id": "05e383bc-8c7d-4b2c-a7fc-d14d1e227f8e",
   "metadata": {},
   "source": [
    "**Answer 1:** <br>\n",
    "your text ..."
   ]
  },
  {
   "cell_type": "markdown",
   "id": "d220af08-1c2d-40de-a8b9-717878fbf46f",
   "metadata": {},
   "source": [
    "---\n",
    "**Question 2:**<br>\n",
    "How much is the characteristic time of your capacitor ?"
   ]
  },
  {
   "cell_type": "markdown",
   "id": "3f43e3c8-7696-44a7-8a3f-a4fd9eb3925a",
   "metadata": {},
   "source": [
    "**Answer 2:** <br>\n",
    "your text ..."
   ]
  },
  {
   "cell_type": "markdown",
   "id": "d5d744ea-9f9d-4264-87da-e04aae83bd6b",
   "metadata": {},
   "source": [
    "---\n",
    "**Question 3:**<br>\n",
    "Based on your measurements, what are the **slope (m)** and **y-intercept (b)** values that best fit your data?"
   ]
  },
  {
   "cell_type": "markdown",
   "id": "c8eae29a-0d27-4883-8ee7-b7955767b591",
   "metadata": {},
   "source": [
    "**Answer 3:**<br>\n",
    "your text ..."
   ]
  }
 ],
 "metadata": {
  "kernelspec": {
   "display_name": "Python 3 (ipykernel)",
   "language": "python",
   "name": "python3"
  },
  "language_info": {
   "codemirror_mode": {
    "name": "ipython",
    "version": 3
   },
   "file_extension": ".py",
   "mimetype": "text/x-python",
   "name": "python",
   "nbconvert_exporter": "python",
   "pygments_lexer": "ipython3",
   "version": "3.13.0"
  }
 },
 "nbformat": 4,
 "nbformat_minor": 5
}
