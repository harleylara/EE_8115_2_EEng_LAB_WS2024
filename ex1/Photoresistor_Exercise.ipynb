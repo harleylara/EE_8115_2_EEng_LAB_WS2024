{
 "cells": [
  {
   "cell_type": "markdown",
   "id": "6e628e68-a386-4c22-8588-7e77865995cb",
   "metadata": {},
   "source": [
    "# EE_8115_2 Electrical Engineering LAB"
   ]
  },
  {
   "cell_type": "markdown",
   "id": "83595b9a-5869-4d37-87c7-a43edcab37db",
   "metadata": {
    "jp-MarkdownHeadingCollapsed": true
   },
   "source": [
    "## STUDENT GROUP: [fill in, e.g. XX]\n",
    "\n",
    "**Complete the following list of students of your group!**\n",
    "\n",
    "* Student 1: Name, Mat. No.\n",
    "* Student 2: Name, Mat. No.\n",
    "* Student 3: Name, Mat. No. \n"
   ]
  },
  {
   "cell_type": "markdown",
   "id": "2ae0759f-7c02-4664-8245-10f276c11f4d",
   "metadata": {},
   "source": [
    "# Experiment 1 - LDR Model Determination\n",
    "\n",
    "- University: Rhein-Waal University of Applied Sciences (Hochschule Rhein-Waal)\n",
    "- Course:  EE_8115 Physics: Mechanics, Electricity and Magentism, WS2024/25"
   ]
  },
  {
   "cell_type": "markdown",
   "id": "32b2dd84-8851-45b7-8ed9-fad60f517f5a",
   "metadata": {},
   "source": [
    "## Overview\n",
    "---\n",
    "\n",
    "The following lab exercise aims to profile the characteristic curve of an LDR with respect to the illuminance."
   ]
  },
  {
   "cell_type": "markdown",
   "id": "40ed25cb-2a84-4eb5-84cb-a616fcd0b1ac",
   "metadata": {},
   "source": [
    "## Background Preparation Before Starting the Lab\n",
    "---\n",
    "\n",
    "If you have not done yet, go to **[EEng Lab Course Preparation](https://github.com/rolfbecker/EE_8115_2_EEng_LAB_WS2024/tree/main/EEng_LAB_Course_Preparation)** to set up your Python work environment based on **Jupyter Lab**.\n"
   ]
  },
  {
   "cell_type": "markdown",
   "id": "cd92fea9-1024-4723-b2e8-0fc943471c16",
   "metadata": {},
   "source": [
    "## Safety Considerations\n",
    "---\n",
    "\n",
    "- **DO NOT** energize **ANY** circuit without prior review by the lab assistants, thay will make sure that the circuit is correctly connected, and if not, the will point out the necessary corrections.\n",
    "- **DO NOT** drop or hit **ANY** components, especially measuring instruments such as the multimeter, Luxmeter, etc.\n",
    "- For this specific exercise (*LDR Curve Profiling*), **DO NOT TOUCH** the bulb **during or after** use as it may be hot!!.\n",
    "\n",
    "<center>\n",
    "    <img src=\"./images/safety-bulb.png\" width=\"400px\"/>\n",
    "    <br>\n",
    "    <i></i>\n",
    "</center>"
   ]
  },
  {
   "cell_type": "markdown",
   "id": "28304d7b-2f3b-48a8-90e2-1fd2563e6d28",
   "metadata": {},
   "source": [
    "## List of Equipment\n",
    "---\n",
    "\n",
    "**Make sure you have all the components and instruments listed below before you start**.\n",
    "\n",
    "Components:\n",
    "- 1x Breadboard\n",
    "- 1x LDR\n",
    "- 1x 10K Ohm Resistor\n",
    "- 1x Arduino UNO with cable\n",
    "- Set of jumper cables\n",
    "- 1x light bulb\n",
    "- 1x Ceramic socket with dimmer attached\n",
    "- 1x Stand/Holder\n",
    "\n",
    "Instruments:\n",
    "- 1x Multimeter\n",
    "- 1x Luxmeter"
   ]
  },
  {
   "cell_type": "markdown",
   "id": "2dc93e5c-ff0e-4383-8df7-a0cf26810aa3",
   "metadata": {},
   "source": [
    "## Circuit\n",
    "---\n",
    "\n",
    "The diagrams below show the test circuit you must make for this exercise. In this diagram there are three connections:\n",
    "- Vcc 5V (from Arduino UNO)\n",
    "- GND (from Arduino UNO)\n",
    "- Analog Pin A5 (this connection is optional)\n",
    "\n",
    "<div style=\"display: flex;\">\n",
    "  <div style=\"float: left; width: 33.33%; padding: 5px;\">\n",
    "      <center>\n",
    "        <img src=\"./images/LDR-schem.png\" width=\"400px\"/>\n",
    "        <br>\n",
    "        <i>LDR test circuit. Schematic representation</i>\n",
    "      </center>\n",
    "  </div>\n",
    "  <div style=\"float: left; width: 33.33%; padding: 5px;\">\n",
    "      <center>\n",
    "    <img src=\"./images/LDR-bb.png\" width=\"400px\"/>\n",
    "    <br>\n",
    "    <i>LDR test circuit. Breadboard representation</i>\n",
    "      </center>\n",
    "  </div>\n",
    "</div>"
   ]
  },
  {
   "cell_type": "markdown",
   "id": "53a4cc7e-5f83-425d-8014-186d250653ff",
   "metadata": {},
   "source": [
    "## Setup\n",
    "---\n",
    "\n",
    "The recommended placement of the components and measuring instruments is shown in the following image:\n",
    "\n",
    "<center>\n",
    "    <img src=\"./images/LDR-setup.png\" width=\"600px\"/>\n",
    "    <br>\n",
    "    <i></i>\n",
    "</center>"
   ]
  },
  {
   "cell_type": "markdown",
   "id": "f98ffc6c-c79b-4b8d-914f-e65517c4b9fa",
   "metadata": {},
   "source": [
    "## Placement\n",
    "---\n",
    "\n",
    "1. Position the stand with the light bulb at a height of approximately 70 cm with respect to the base.\n",
    "\n",
    "<center>\n",
    "    <img src=\"./images/stand.png\"/>\n",
    "    <br>\n",
    "    <i></i>\n",
    "</center>\n",
    "\n",
    "2. Place the LDR and the photoreceptor on the base, making sure that they receive the same amount of light.\n",
    "\n",
    "> Note: Keep the area free of shadows and the lighting in the room consistent. For this experiment it is recommended to position the base in the direction of the window so that both devices (LDR and Photoreceptor) are uniformly affected by the outside light.\n",
    "\n",
    "<center>\n",
    "    <img src=\"./images/ldr-luxmeter-light.png\" width=\"500px\"/>\n",
    "    <br>\n",
    "    <i></i>\n",
    "</center>\n",
    "\n",
    "3. Add the multimeter test probes to measure the voltage across the **10K** resistor.\n",
    "\n",
    "<center>\n",
    "    <img src=\"./images/measurement-points.jpg\" width=\"500px\"/>\n",
    "    <br>\n",
    "    <i></i>\n",
    "</center>"
   ]
  },
  {
   "cell_type": "markdown",
   "id": "8f7ca31f-0c85-436c-a128-02a84ab52d1a",
   "metadata": {},
   "source": [
    "## Data Capture\n",
    "---\n",
    "\n",
    "The data capture is performed **manually by yourself**. The data must be entered in a text file with extension `.txt.` inside the `data` folder, please follow the format of the `test.txt` file inside the `data` folder.\n",
    "\n",
    "An example of how the file should be formatted:\n",
    "```\n",
    "Ev,DV1\n",
    "101,1.466\n",
    "256,2.24\n",
    "470,2.74\n",
    "```\n",
    "\n",
    "The first column of data corresponds to the **Illuminance** $E_v$ measured in **Lux**, and the second column is the **voltage across the 10K resistor**.\n",
    "\n",
    "**Use the following file:** [myOwnData.txt](./data/myOwnData.txt)\n",
    "\n",
    "> Note: Keep the area free of shadows and the lighting in the room consistent. For this experiment it is recommended to position the case in the direction of the window so that both devices (LDR and Photodetector) are uniformly affected by the outside light.\n",
    "\n",
    "**BEFORE** starting the measurements make sure that the light intensity is at **MINIMUM value**. This can be done by using the dimmer attached to the socket cable.\n",
    "\n",
    "<center>\n",
    "    <img src=\"./images/dimmer.jpg\" width=\"400px\"/>\n",
    "    <br>\n",
    "    <i>Dimmer: Is used to adjust the intensity of light emitted by the light bulb.</i>\n",
    "</center>\n",
    "\n",
    "___\n",
    "\n",
    "Taking into account all of the above considerations, proceed to the following **Measurement procedures:**\n",
    "1. Take the value displayed by the Luxmeter and the voltage across resistance and add it to the `.txt` file. Example:\n",
    "\n",
    "<code style=\"margin: 10px 30px; display: block; color: grey; padding: 1em 2em ;\">Ev,DV1\n",
    "101,1.466\n",
    "</code>\n",
    "\n",
    "2. (without changing anything in the setup) **INCREASE** the light intensity and add the new values to the `.txt` file.\n",
    "\n",
    "<code style=\"margin: 10px 30px; display: block; color: grey; padding: 1em 2em ;\">Ev,DV1\n",
    "101,1.466\n",
    "256,2.24\n",
    "</code>\n",
    "\n",
    "3. Repeat the above steps until you reach the **MAXIMUM INTENSITY** of the light bulb.\n",
    "\n",
    "4. When the maximum intensity allowed by the bulb is reached, **decrease** it to the **MINIMUM INTENSITY** and **move the bulb closer to the base** until the amount of **lux is close to the last measurement**. Example:\n",
    "\n",
    "<center>\n",
    "    <img src=\"./images/stand-2.png\"/>\n",
    "    <br>\n",
    "    <i>The number shown in this image is for <b>REFERENCE ONLY</b> and each team should adjust the height to their needs.</i>\n",
    "</center>\n",
    "\n",
    "5. With the height of the bulb adjusted; proceed with steps 1 and 2 until reaches maximum intensity (step 3).\n",
    "\n",
    "> Note: Due to the heat emitted by the light bulb, **DO NOT place it closer than 20 cm from the base**."
   ]
  },
  {
   "cell_type": "markdown",
   "id": "5e6b6671-3d58-4421-8568-22d98262ba61",
   "metadata": {},
   "source": [
    "## Data Display"
   ]
  },
  {
   "cell_type": "code",
   "execution_count": null,
   "id": "8ee2f5ce-444e-4422-8135-7693f24e9835",
   "metadata": {},
   "outputs": [],
   "source": [
    "import pandas as pd\n",
    "import matplotlib.pyplot as plt\n",
    "from ipywidgets import interactive"
   ]
  },
  {
   "cell_type": "markdown",
   "id": "fd286ca9-9ceb-450f-83c8-ae3caf693de0",
   "metadata": {},
   "source": [
    "**LDR Model**:\n",
    "\n",
    "The following simple power function is used to approximate the behaviour of a LDR. The curve parameters $m$ and $b$"
   ]
  },
  {
   "cell_type": "code",
   "execution_count": null,
   "id": "736fde21-3b4b-4599-a552-dfb58177b448",
   "metadata": {},
   "outputs": [],
   "source": [
    "def LDRmodel(lux, m=-0.57, b=2.71e4):\n",
    "    return b*lux**m"
   ]
  },
  {
   "cell_type": "markdown",
   "id": "77609f96-690f-4abe-8986-262a344b79f5",
   "metadata": {},
   "source": [
    "**Fill requested information**:"
   ]
  },
  {
   "cell_type": "code",
   "execution_count": null,
   "id": "9da61480-0b95-41da-9fff-4ebfbe5cffbf",
   "metadata": {},
   "outputs": [],
   "source": [
    "############################\n",
    "# Fill these variables with\n",
    "# the requested information\n",
    "############################\n",
    "\n",
    "FILE_NAME = \"myOwnData.txt\"  # your file name WITH extension (e.g. .txt)\n",
    "\n",
    "V0 = 5.04 # Output voltage produced by the Arduino UNO"
   ]
  },
  {
   "cell_type": "code",
   "execution_count": null,
   "id": "caa27a18-611a-4b8b-9bb4-71882284c088",
   "metadata": {},
   "outputs": [],
   "source": [
    "############################\n",
    "# You do NOT need to change \n",
    "# anything in the section below\n",
    "############################\n",
    "\n",
    "FILE_PATH = f\"./data/{FILE_NAME}\"\n",
    "\n",
    "R1 = 10e3 # Resistor value (10K in this case)\n",
    "\n",
    "df = pd.read_csv(FILE_PATH)\n",
    "df.set_index(\"Ev\", inplace = True)\n",
    "df.head()"
   ]
  },
  {
   "cell_type": "code",
   "execution_count": null,
   "id": "6bf2175d-1b25-42bf-881b-09b66bd21c3b",
   "metadata": {},
   "outputs": [],
   "source": [
    "df = df.sort_values('DV1')"
   ]
  },
  {
   "cell_type": "code",
   "execution_count": null,
   "id": "edb7ade5-1222-4b24-b686-d9c32537b565",
   "metadata": {},
   "outputs": [],
   "source": [
    "DV1 = df[\"DV1\"]\n",
    "lux = df.index\n",
    "\n",
    "fig = DV1.plot(style=\"-*\", color=\"k\", logx=True, figsize=(8,6))\n",
    "fig.set_title(\"Voltage vs Illuminance\")\n",
    "fig.set_xlabel(\"Illuminance ($E_v$) in Lux\")\n",
    "fig.set_ylabel(\"Voltage ($V$)\")"
   ]
  },
  {
   "cell_type": "code",
   "execution_count": null,
   "id": "7f4413e5-1cb0-43b5-ad98-b8878e7e6012",
   "metadata": {},
   "outputs": [],
   "source": [
    "DV2 = V0-DV1\n",
    "LDR = DV2/DV1*R1\n",
    "\n",
    "fig2,ax2 = plt.subplots(figsize=(8,6))\n",
    "fig2.tight_layout()\n",
    "ax2.set_title(\"Illuminance vs Resistance\")\n",
    "ax2.set_xlabel(\"Illuminance ($E_v$) in Lux\")\n",
    "ax2.set_ylabel(\"LDR resistence ($R_1$)\")\n",
    "\n",
    "#LDR.plot(style=\"-*\", color=\"k\", logx=True, logy=True, ax = ax2)\n",
    "\n",
    "ax2.loglog(lux, LDR, \"*\")\n",
    "ax2.grid(True)"
   ]
  },
  {
   "cell_type": "code",
   "execution_count": null,
   "id": "8b5488a4-baf9-436f-9c88-d6f5e81c6ccd",
   "metadata": {},
   "outputs": [],
   "source": [
    "def plotter1(m=-0.67, b=520.e3): # parameters with initial values\n",
    "     \n",
    "    V0 = 5.04\n",
    "    R1 = 9.91e3\n",
    "    \n",
    "    DV2 = V0-DV1\n",
    "    LDR = DV2/DV1*R1\n",
    "\n",
    "    fig2,ax2 = plt.subplots(figsize=(8,8))\n",
    "    \n",
    "    ax2.set_xlim(1e1,1e5)\n",
    "\n",
    "    ax2.set_ylim(1e2,1e5)\n",
    "\n",
    "    ax2.loglog(lux, LDR, \"*\")\n",
    "    ax2.loglog(lux, LDRmodel(lux,m,b), \"-\")\n",
    "    ax2.set_title(\"Illuminance vs Resistence log-log-plot\")\n",
    "    ax2.set_xlabel(\"Illuminance ($E_v$) in lux\")\n",
    "    ax2.set_ylabel(\"LDR resistance ($R$)\")\n",
    "    \n",
    "    ax2.grid(True)"
   ]
  },
  {
   "cell_type": "code",
   "execution_count": null,
   "id": "66908e0f-fadc-4f5c-a4a4-33925e71ef1c",
   "metadata": {},
   "outputs": [],
   "source": [
    "# initialize the interactive plot\n",
    "iplot1 = interactive(\n",
    "    plotter1, \n",
    "#    V0=(0.,10.,0.1),\n",
    "#    R1=(5000.,15000.,100.),\n",
    "    m=(-0.8,-0.2,0.01),\n",
    "    b=(100000., 1000000., 10000.)\n",
    ")\n",
    "\n",
    "# start the interactive plot\n",
    "iplot1"
   ]
  },
  {
   "cell_type": "markdown",
   "id": "33441591-cea0-4a64-8dea-920e7411fce3",
   "metadata": {},
   "source": [
    "## Questions"
   ]
  },
  {
   "cell_type": "markdown",
   "id": "b2c074d0-4da6-4dbc-a80a-d6311ef644c3",
   "metadata": {},
   "source": [
    "**Question 1:**<br>\n",
    "Describe the difference between the different photosensitive effects of a photoresistor and a photodiode."
   ]
  },
  {
   "cell_type": "markdown",
   "id": "1f233720-d357-4b28-9124-7b96117542ff",
   "metadata": {},
   "source": [
    "**Answer 1:** <br>\n",
    "your text ..."
   ]
  },
  {
   "cell_type": "markdown",
   "id": "7f8246f8-8350-48fa-813e-54a107b77207",
   "metadata": {},
   "source": [
    "---\n",
    "**Question 2:**<br>\n",
    "Describe the difference between a photoresistor and a photodiode?"
   ]
  },
  {
   "cell_type": "markdown",
   "id": "1b708eeb-0ce9-4ebd-92c2-05178e3287a3",
   "metadata": {},
   "source": [
    "**Answer 2:**<br>\n",
    "your text..."
   ]
  },
  {
   "cell_type": "markdown",
   "id": "8df18498-2cc5-45a8-b975-746d60835ee8",
   "metadata": {},
   "source": [
    "---\n",
    "**Question 3:**<br>\n",
    "Based on your measurements, what are the **slope (m)** and **y-intercept (b)** values that best fit your data?"
   ]
  },
  {
   "cell_type": "markdown",
   "id": "d5ca3ea7-dcec-4dba-8470-2edc2525d25a",
   "metadata": {},
   "source": [
    "**Answer 3:**<br>\n",
    "your text ..."
   ]
  },
  {
   "cell_type": "markdown",
   "id": "e3a35a85-3293-46c0-9015-7684587e85b5",
   "metadata": {},
   "source": [
    "---\n",
    "**Question 4:**<br>\n",
    "What would happen if you **repeat the experiment**, but this time you **only change the photoresistor** for one of the same brand?"
   ]
  },
  {
   "cell_type": "markdown",
   "id": "b722c618-2531-4d22-b98a-fc617d8d5aaa",
   "metadata": {},
   "source": [
    "**Answer 4:**<br>\n",
    "your text ..."
   ]
  },
  {
   "cell_type": "markdown",
   "id": "cea50776-f59b-430c-b5fb-854b25c4d29c",
   "metadata": {},
   "source": [
    "---\n",
    "**Question 5:**<br>\n",
    "Will your current slope and y-intercept values be able to **fit to the new data**?"
   ]
  },
  {
   "cell_type": "markdown",
   "id": "c519fd15-59c0-41e8-9ab3-cdfdda50dbb2",
   "metadata": {},
   "source": [
    "**Answer 5:**<br>\n",
    "your text..."
   ]
  },
  {
   "cell_type": "markdown",
   "id": "8774860a-d086-4cce-bf41-69d52ae88914",
   "metadata": {},
   "source": [
    "---\n",
    "**Question 6:**<br>\n",
    "What would be a better way to represent **resistance-vs-lux curves** ?"
   ]
  },
  {
   "cell_type": "markdown",
   "id": "2d7e5dd2-c2a9-4091-9c2e-9b06b157b98e",
   "metadata": {},
   "source": [
    "**Answer 6:**<br>\n",
    "your text..."
   ]
  }
 ],
 "metadata": {
  "kernelspec": {
   "display_name": "Python 3 (ipykernel)",
   "language": "python",
   "name": "python3"
  },
  "language_info": {
   "codemirror_mode": {
    "name": "ipython",
    "version": 3
   },
   "file_extension": ".py",
   "mimetype": "text/x-python",
   "name": "python",
   "nbconvert_exporter": "python",
   "pygments_lexer": "ipython3",
   "version": "3.13.0"
  }
 },
 "nbformat": 4,
 "nbformat_minor": 5
}
